{
 "cells": [
  {
   "cell_type": "markdown",
   "metadata": {},
   "source": [
    "# Ice Thickness Model"
   ]
  },
  {
   "cell_type": "markdown",
   "metadata": {},
   "source": [
    "## Introduction and Background Information\n",
    "\n",
    "In this assignment, you will work on modelling ice growth, based on the classical Stefan's Problem (from week 1). The latter aims to determine how an ice layer grows as a function of time, given the constraint that the temperature of air ($T_{air}$) is constant, smaller than the freezing temperature $T_{fr}$ and everywhere the same.\n",
    "\n",
    "Using this problem, we can model ice growth as:\n",
    "\n",
    "$$\n",
    "H^2_{ice}-H^2_{ice,0} = \\frac{2 k_{ice}}{\\rho_{ice} \\cdot l}\\int{(T_s-T_{fr})}dt\n",
    "$$\n",
    "\n",
    "where $H_{ice}$ is the thickness of the ice at a given time $t$, $H_{ice,0}$ is the thickness of the ice at time $t=0$, $k_{ice}=2.2W/(K \\cdot m)$ is the thermal conductivity of ice, $\\rho_{ice}=917 kg/m^3$ is the density of ice, $l = 333.4 J/g = 333.4 kJ/kg$ is the latent heat of fusion, $T_s$ is the equal to the temperature of the air and $T_{fr}=273K$ is the freezing temperature of water.\n",
    "\n",
    "We want to estimate the ice thickness after 3 days, and will assume that the temperature remains stable during that period. \n",
    "\n",
    "Therefore, the previous equation will lead to:\n",
    "\n",
    "$$\n",
    "H_{ice} = \\sqrt{\\frac{2 k_{ice}}{\\rho_{ice} l}\\Delta T \\Delta t+H^2_{ice,0}}\n",
    "$$\n",
    "\n",
    "where $\\Delta T = |T_s-T_{fr}|$ and $\\frac{2 k_{ice}}{\\rho_{ice} l} \\approx 1.44 \\cdot 10^{-8} \\ m^2/K s$\n",
    "\n",
    "---\n",
    "**Previous work provides the following data:**\n",
    "\n",
    "- Based on the samples of ice measurements, the mean thickness is $\\mu_{H0}=0.20m$ and the standard deviation of thickness is $\\sigma_{H0}=0.03m$.\n",
    "\n",
    "- Based on the forecast, the mean air temperature during the next 3 days is $\\mu_T=263K$ and the standard deviation of the temperature of $\\sigma_T=4K$.\n",
    "\n",
    "- The rest of the variables are deterministic.\n",
    "\n",
    "- The ice thickness and the predicted temperature are independent random variables.\n",
    "\n",
    "**The goal of this notebook is to carry out the uncertainty propagation and validation of the propagation model.**\n",
    "\n",
    "Note that you are interested in the increment of temperature $|T_s-T_{fr}|$, whose mean is $\\mu_{iT}=|263-273|=10K$ and $\\sigma_{iT}=4K$.\n"
   ]
  },
  {
   "cell_type": "code",
   "execution_count": null,
   "metadata": {
    "execution": {
     "iopub.execute_input": "2025-10-02T17:20:50.442865Z",
     "iopub.status.busy": "2025-10-02T17:20:50.442622Z",
     "iopub.status.idle": "2025-10-02T17:20:51.870238Z",
     "shell.execute_reply": "2025-10-02T17:20:51.869555Z"
    }
   },
   "outputs": [],
   "source": [
    "import numpy as np\n",
    "import matplotlib.pyplot as plt\n",
    "\n",
    "from scipy.stats import norm\n",
    "from scipy.stats import probplot\n",
    "\n",
    "plt.rcParams.update({'font.size': 14})"
   ]
  },
  {
   "cell_type": "markdown",
   "metadata": {
    "execution": {
     "iopub.execute_input": "2025-10-02T17:20:51.872607Z",
     "iopub.status.busy": "2025-10-02T17:20:51.872302Z",
     "iopub.status.idle": "2025-10-02T17:20:51.875833Z",
     "shell.execute_reply": "2025-10-02T17:20:51.875204Z"
    }
   },
   "source": [
    "### Internal Equation Check\n",
    "\n",
    "Here we provide a simple function to check the values of ice thickness for different values of the input parameters. It may be useful to debug your code, or to get an understanding for the function of random variables."
   ]
  },
  {
   "cell_type": "code",
   "execution_count": null,
   "metadata": {},
   "outputs": [],
   "source": [
    "def stefan(constant, H0, Ts, Tfr, time):\n",
    "    return np.sqrt(constant*time*abs(Ts-Tfr) + H0**2)"
   ]
  },
  {
   "cell_type": "code",
   "execution_count": null,
   "metadata": {},
   "outputs": [],
   "source": [
    "print('Ice thickness: ' +\n",
    "      f'{stefan(1.44*10**(-8), 0.15, 261, 273, 3*24*3600):.3f} m')"
   ]
  },
  {
   "cell_type": "markdown",
   "metadata": {},
   "source": [
    "## Part 1: Transforming Random Variables"
   ]
  },
  {
   "cell_type": "markdown",
   "metadata": {},
   "source": [
    "We start by writing all necessary functions, so we need:\n",
    "\n",
    "1. To apply the propagation laws with `H_taylor()` to find the mean and standard deviation of the linearized function of random variables;\n",
    "2. To find the distribution of `H_ice` numerically with a simulation, then compare this to the Normal distribution defined by the mean and standard deviation of the linearized function of random variables."
   ]
  },
  {
   "cell_type": "markdown",
   "metadata": {},
   "source": [
    "<div style=\"background-color:#AABAB2; color: black; width:90%; vertical-align: middle; padding:15px; margin: 10px; border-radius: 10px\">\n",
    "<p>\n",
    "\n",
    "**Task 1.1:**\n",
    "\n",
    "Write out the analytical equations on paper, then complete the two functions in the cell below.\n",
    "    \n",
    "</p>\n",
    "</div>"
   ]
  },
  {
   "cell_type": "code",
   "execution_count": null,
   "metadata": {
    "tags": [
     "assignment"
    ]
   },
   "outputs": [],
   "source": [
    "def H_taylor(mu_H0, mu_iT, sigma_H0, sigma_iT):\n",
    "    \"\"\" Taylor series approximation of mean and std of H\"\"\"\n",
    "    \n",
    "    # Write your own preliminary variables here\n",
    "    # Probably more than one line\n",
    "\n",
    "    mu_H = ### YOUR CODE HERE ###\n",
    "    sigma_H = ### YOUR CODE HERE ###\n",
    "    \n",
    "    return mu_H, sigma_H\n",
    "\n",
    "def samples_plot(N, mu_H0, mu_iT, sigma_H0, sigma_iT):\n",
    "    \"\"\"Generate samples and plots for V\n",
    "    \n",
    "    Compares the approximated Normal distribution of V to numerically\n",
    "    approximated distribution, found by sampling from the input\n",
    "    distributions.\n",
    "    \n",
    "    Return: a plot and the mean and std dev of simulated values of H_ice.\n",
    "    \"\"\"\n",
    "    H0_samples = ### YOUR CODE HERE ###\n",
    "    iT_samples = ### YOUR CODE HERE ###\n",
    "    h_samples = ### YOUR CODE HERE ###\n",
    "    mu_H = ### YOUR CODE HERE ###\n",
    "    sigma_H = ### YOUR CODE HERE ###\n",
    "\n",
    "    \n",
    "    # Plot histogram\n",
    "    xmin = 0.0\n",
    "    xmax = 0.5\n",
    "    x = np.linspace(xmin, xmax, 100)\n",
    "    fig, ax = plt.subplots(1, 2, figsize = (16, 6))\n",
    "\n",
    "    ax[0].hist(### YOUR CODE HERE ###,\n",
    "               bins = 40, density = True,\n",
    "               edgecolor='black', linewidth=1.2, \n",
    "               label = 'Empirical PDF of ${H_{ice}}$')\n",
    "\n",
    "    \n",
    "    # Add normal pdf in same figure\n",
    "    ax[0].plot(x, ### YOUR CODE HERE ###, color = 'black',\n",
    "               lw = 2.5, label='Normal PDF')\n",
    "    \n",
    "    # Add probability plot in right-side panel\n",
    "    probplot(### YOUR CODE HERE ###, dist = norm, fit = True, plot = ax[1])\n",
    "    \n",
    "    return mu_H, sigma_H, h_samples"
   ]
  },
  {
   "cell_type": "markdown",
   "metadata": {},
   "source": [
    "## Part 2: Mean and Variance propagation laws"
   ]
  },
  {
   "cell_type": "markdown",
   "metadata": {},
   "source": [
    "<div style=\"background-color:#AABAB2; color: black; width:90%; vertical-align: middle; padding:15px; margin: 10px; border-radius: 10px\">\n",
    "<p>\n",
    "\n",
    "**Task 2.1:**\n",
    "    \n",
    "Use the functions defined in Task 1 to compute the mean and standard deviation of the linearized function of random variables, and compare the distribution defined by this result to the distribution of $H_{ice}$ found using simulation.\n",
    "    \n",
    "</p>\n",
    "</div>"
   ]
  },
  {
   "cell_type": "markdown",
   "metadata": {},
   "source": [
    "Now we can compute the mean $\\mu_H$ and standard deviation $\\sigma_H$ as function of:  \n",
    "- $\\mu_T = 10 \\; \\mathrm{K}$ and $\\sigma_T = 4 \\; \\mathrm{K}$\n",
    "- $\\mu_{H_0} = 0.20 \\; \\mathrm{m}$ and $\\sigma_{H_0} = 0.03 \\; \\mathrm{m}$"
   ]
  },
  {
   "cell_type": "code",
   "execution_count": null,
   "metadata": {
    "tags": [
     "assignment"
    ]
   },
   "outputs": [],
   "source": [
    "mu_iT = 10\n",
    "sigma_iT = 4\n",
    "mu_H0 = 0.20\n",
    "sigma_H0 = 0.03\n",
    "N = 10000\n",
    "\n",
    "mu_H, sigma_H = ### YOUR CODE HERE ###"
   ]
  },
  {
   "cell_type": "markdown",
   "metadata": {},
   "source": [
    "The code below plots your results and prints out the mean and standard deviation of your function and simulated results"
   ]
  },
  {
   "cell_type": "code",
   "execution_count": null,
   "metadata": {},
   "outputs": [],
   "source": [
    "print('Comparison of propagated and simulated distributions:\\n')\n",
    "\n",
    "mu_H_simulated, sigma_H_simulated, _ = samples_plot(N,\n",
    "                                                    mu_H0, mu_iT,\n",
    "                                                    sigma_H0, sigma_iT)\n",
    "\n",
    "print('\\n\\nMean and standard deviation of linearized function:')\n",
    "print('  \\N{GREEK SMALL LETTER MU}',\n",
    "        '\\N{LATIN SUBSCRIPT SMALL LETTER H}=',\n",
    "      f'{mu_H:.3f}', 'm')\n",
    "print('  \\N{GREEK SMALL LETTER SIGMA}',\n",
    "        '\\N{LATIN SUBSCRIPT SMALL LETTER H}=',\n",
    "      f'{sigma_H:.3f}', 'm')\n",
    "\n",
    "print('\\n\\nMean and standard deviation of simulated distribution:')\n",
    "print('  \\N{GREEK SMALL LETTER MU}',\n",
    "        '\\N{LATIN SUBSCRIPT SMALL LETTER H} =',\n",
    "      f'{mu_H_simulated:.3f}', 'm')\n",
    "print('  \\N{GREEK SMALL LETTER SIGMA}',\n",
    "        '\\N{LATIN SUBSCRIPT SMALL LETTER H}=',\n",
    "      f'{sigma_H_simulated:.3f}', 'm')\n",
    "print('\\n')"
   ]
  },
  {
   "cell_type": "markdown",
   "metadata": {},
   "source": [
    "**NOTE** Recall that the right-hand plot above (and below) is by default labeled \"theoretical quantiles\" but in fact it is the q value. The y-axis contains the ordered values of the output variable, ice thickness."
   ]
  },
  {
   "cell_type": "markdown",
   "metadata": {},
   "source": [
    "## Part 3: Monte Carlo simulations - sample size"
   ]
  },
  {
   "cell_type": "markdown",
   "metadata": {},
   "source": [
    "As you may recall, the \"accuracy\" of a Monte Carlo simulation depends on the size of the sample. The code cell below sets up a loop and prints the output of the uncertainty propagation for a few different sample sizes. Take a look at the results and see how they change."
   ]
  },
  {
   "cell_type": "markdown",
   "metadata": {},
   "source": [
    "<div style=\"background-color:#AABAB2; color: black; width:90%; vertical-align: middle; padding:15px; margin: 10px; border-radius: 10px\">\n",
    "<p>\n",
    "\n",
    "**Task 3.1:**\n",
    "    \n",
    "In one of the questions in the Report, you are asked to consider the \"inaccurate\" values that might be produced by this model.\n",
    "Run simulations for [10, 100, 10000, 100000] realizations and record their results to help you answer this question.\n",
    "    \n",
    "</p>\n",
    "</div>"
   ]
  },
  {
   "cell_type": "code",
   "execution_count": null,
   "metadata": {
    "tags": [
     "assignment"
    ]
   },
   "outputs": [],
   "source": [
    "for N in ### YOUR CODE HERE ###:\n",
    "    mu_H_simulated, sigma_H_simulated, h_samp = samples_plot(N,\n",
    "                                                             mu_H0,\n",
    "                                                             mu_iT,\n",
    "                                                             sigma_H0,\n",
    "                                                             sigma_iT)\n",
    "    print(f'For N = {N} samples:')\n",
    "    print(f'    mean = {mu_H_simulated:.3f} m')\n",
    "    print(f'    std = {sigma_H_simulated:.3f} m\\n')"
   ]
  },
  {
   "cell_type": "markdown",
   "metadata": {},
   "source": [
    "<div style=\"background-color:#AABAB2; color: black; width:90%; vertical-align: middle; padding:15px; margin: 10px; border-radius: 10px\">\n",
    "<p>\n",
    "\n",
    "**Task 3.2:**\n",
    "    \n",
    "The code cell below can be used for your answer to one of the questions in the Report, where you are asked to consider the \"inaccurate\" values that might be produced by this model.\n",
    "    \n",
    "</p>\n",
    "</div>"
   ]
  },
  {
   "cell_type": "code",
   "execution_count": null,
   "metadata": {},
   "outputs": [],
   "source": [
    "for i in np.linspace(0.1, 0.4, 10):\n",
    "    print(f'for an ice thickness of {i:5.2f} m --> ' +\n",
    "          f'{100*sum(h_samp <= i)/len(h_samp):8.4f}% of samples, ' +\n",
    "          f'{100*norm.cdf(i, mu_H, sigma_H):8.4f}% of distribution')"
   ]
  },
  {
   "cell_type": "markdown",
   "metadata": {},
   "source": [
    "> By Lotfi Massarweh, Delft University of Technology. CC BY 4.0, more info on the Credits page of Workbook. "
   ]
  }
 ],
 "metadata": {
  "kernelspec": {
   "display_name": "mude-base",
   "language": "python",
   "name": "python3"
  },
  "language_info": {
   "codemirror_mode": {
    "name": "ipython",
    "version": 3
   },
   "file_extension": ".py",
   "mimetype": "text/x-python",
   "name": "python",
   "nbconvert_exporter": "python",
   "pygments_lexer": "ipython3",
   "version": "3.12.11"
  }
 },
 "nbformat": 4,
 "nbformat_minor": 2
}
