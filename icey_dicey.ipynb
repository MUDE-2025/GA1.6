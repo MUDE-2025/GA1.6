{
 "cells": [
  {
   "cell_type": "markdown",
   "metadata": {},
   "source": [
    "# Propagation of Uncertainty"
   ]
  },
  {
   "cell_type": "markdown",
   "metadata": {},
   "source": [
    "## Introduction and background information\n",
    "\n",
    "The classical Stefan problem, named after the Slovenian physicist Josef Stefan, refers to a boundary value problem for a Partial Differential Equations (PDE) system. It describes the evolution of the boundary between two phases subject to a change in their phase. For instance, to determine how an ice layer grows as a function of time, given the constraint that the temperature of air ($T_{air}$) is constant, smaller than the freezing temperature $T_{fr}$ and everywhere the same.\n",
    "\n",
    "Using this problem, we can model ice growth as:\n",
    "\n",
    "$$\n",
    "H^2_{ice}-H^2_{ice,0} = \\frac{2 k_{ice}}{\\rho_{ice} \\cdot l}\\int{(T_s-T_{fr})}dt\n",
    "$$\n",
    "\n",
    "where \n",
    "- $H_{ice}$ is the thickness of the ice at a given time $t$, \n",
    "- $H_{ice,0}$ is the thickness of the ice at time $t=0$, \n",
    "- $k_{ice}=2.2W/(K \\cdot m)$ is the thermal conductivity of ice, \n",
    "- $\\rho_{ice}=917 kg/m^3$ is the density of ice, \n",
    "- $l = 333.4 kJ/kg$ is the latent heat of fusion, \n",
    "- $T_s$ is equal to the temperature of the air, \n",
    "- $T_{fr}=273K$ is the freezing temperature of water.\n",
    "\n",
    "We assume the temperature remains stable during a period of a five days, therefore\n",
    "$$\n",
    "H_{ice} = \\sqrt{\\frac{2 k_{ice}}{\\rho_{ice} l}\\Delta T \\Delta t+H^2_{ice,0}}\n",
    "$$\n",
    "\n",
    "where $\\Delta T = |T_s-T_{fr}|$ and $\\frac{2 k_{ice}}{\\rho_{ice} l} \\approx 1.44 \\cdot 10^{-8} \\ m^2/K s$.\n",
    "\n",
    "---\n",
    "**Inputs and main assumptions**\n",
    "\n",
    "- Based on the ice measurement samples, \n",
    "  - the mean thickness value is $ \\mu_{H_0} = 0.20 \\;m$ \n",
    "  - the standard deviation of thickness is $\\sigma_{H_0} = 0.03 \\;m$.\n",
    "\n",
    "- Based on the forecast during the next 5 days, \n",
    "  - the mean air temperature is $\\mu_T = 263 \\;K$\n",
    "  - the standard deviation of the temperature is $\\sigma_T = 4 \\;K$.\n",
    "\n",
    "- The rest of the variables are deterministic.\n",
    "\n",
    "- The ice thickness and the predicted temperature are independent random variables.\n",
    "\n",
    "**GOALS: uncertainty propagation via Taylor approximation vs Monte Carlo simulations**\n",
    "\n",
    "Note: we are interested in the increment of temperature $|T_s-T_{fr}|$, where the mean is assumed to be $\\mu_{iT} = |263-273| = 10 \\;K$ with standard deviation given by $\\sigma_{iT} = 4 \\;K$.\n"
   ]
  },
  {
   "cell_type": "code",
   "execution_count": null,
   "metadata": {
    "execution": {
     "iopub.execute_input": "2025-10-02T17:20:50.442865Z",
     "iopub.status.busy": "2025-10-02T17:20:50.442622Z",
     "iopub.status.idle": "2025-10-02T17:20:51.870238Z",
     "shell.execute_reply": "2025-10-02T17:20:51.869555Z"
    }
   },
   "outputs": [],
   "source": [
    "import numpy as np\n",
    "import matplotlib.pyplot as plt\n",
    "\n",
    "from scipy.stats import norm\n",
    "from scipy.stats import probplot\n",
    "\n",
    "plt.rcParams.update({'font.size': 14})"
   ]
  },
  {
   "cell_type": "markdown",
   "metadata": {
    "execution": {
     "iopub.execute_input": "2025-10-02T17:20:51.872607Z",
     "iopub.status.busy": "2025-10-02T17:20:51.872302Z",
     "iopub.status.idle": "2025-10-02T17:20:51.875833Z",
     "shell.execute_reply": "2025-10-02T17:20:51.875204Z"
    }
   },
   "source": [
    "### Some first checks\n",
    "\n",
    "Below you find a definition of the function providing the ice thinkness at time $t$. This can be useful to debug your code, or to get an understanding for the function of random variables."
   ]
  },
  {
   "cell_type": "code",
   "execution_count": null,
   "metadata": {},
   "outputs": [],
   "source": [
    "def stefan(constant, H0, Ts, Tfr, time):\n",
    "    return np.sqrt(constant*time*abs(Ts-Tfr) + H0**2)"
   ]
  },
  {
   "cell_type": "code",
   "execution_count": null,
   "metadata": {},
   "outputs": [],
   "source": [
    "print('Ice thickness: ' +\n",
    "      f'{stefan(1.44*10**(-8), 0.15, 261, 273, 5*24*3600):.3f} m')"
   ]
  },
  {
   "cell_type": "markdown",
   "metadata": {},
   "source": [
    "## Part 1: Transforming random variables"
   ]
  },
  {
   "cell_type": "markdown",
   "metadata": {},
   "source": [
    "We look at a transformation of random variables by\n",
    "1. **Taylor approximation**, so we define `H_taylor()` function to find mean and standard deviation of the linearized function of random variables;\n",
    "2. **Monte Carlo simulations**, with the `H_ice` function to find the distribution (+ fitting moments) after propagating samples randomly generated."
   ]
  },
  {
   "cell_type": "markdown",
   "metadata": {},
   "source": [
    "<div style=\"background-color:#AABAB2; color: black; width:90%; vertical-align: middle; padding:15px; margin: 10px; border-radius: 10px\">\n",
    "<p>\n",
    "\n",
    "**Task 1.1:**\n",
    "\n",
    "Write out the analytical equations on paper, then complete the two functions in the cell below.\n",
    "    \n",
    "</p>\n",
    "</div>"
   ]
  },
  {
   "cell_type": "code",
   "execution_count": null,
   "metadata": {
    "tags": [
     "assignment"
    ]
   },
   "outputs": [],
   "source": [
    "def H_taylor(mu_H0, mu_iT, sigma_H0, sigma_iT):\n",
    "    \"\"\" Taylor series approximation of mean and std of H\"\"\"\n",
    "    \n",
    "    # # Write your own preliminary variables here\n",
    "    # YOUR_CODE_HERE # Probably more than one line\n",
    "\n",
    "    mu_H = ### YOUR CODE HERE ###\n",
    "    sigma_H = ### YOUR CODE HERE ###\n",
    "    \n",
    "    return mu_H, sigma_H\n",
    "\n",
    "def samples_plot(N, mu_H0, mu_iT, sigma_H0, sigma_iT):\n",
    "    \"\"\"Generate samples and plots for V\n",
    "    \n",
    "    Compares the approximated Normal distribution of V to numerically\n",
    "    approximated distribution, found by sampling from the input\n",
    "    distributions.\n",
    "    \n",
    "    Return: a plot and the mean and std dev of simulated values of H_ice.\n",
    "    \"\"\"\n",
    "    # H0_samples = ### YOUR CODE HERE ###\n",
    "    # iT_samples = ### YOUR CODE HERE ###\n",
    "\n",
    "\n",
    "    # negative values of ice thickness not physically possible\n",
    "    count_negative_iT = sum(iT_samples < 0)\n",
    "    if count_negative_iT > 0:\n",
    "        iT_samples[iT_samples < 0] = 0\n",
    "        print(f'Number of iT samples adjusted to 0: {count_negative_iT} '+\n",
    "              f'({count_negative_iT/N*100:.1f}% of N)')\n",
    "    \n",
    "    # h_samples = ### YOUR CODE HERE ###\n",
    "    # mu_H = ### YOUR CODE HERE ###\n",
    "    # sigma_H = ### YOUR CODE HERE ###\n",
    "\n",
    "    \n",
    "    # Plot histogram\n",
    "    xmin = 0.0\n",
    "    xmax = 0.5\n",
    "    x = np.linspace(xmin, xmax, 100)\n",
    "    fig, ax = plt.subplots(1, 2, figsize = (16, 6))\n",
    "\n",
    "    # ax[0].hist(### YOUR CODE HERE ###,\n",
    "    #            bins = 40, density = True,\n",
    "    #            edgecolor='black', linewidth=1.2, \n",
    "    #            label = 'Empirical PDF of ${H_{ice}}$')\n",
    "\n",
    "    # Add normal pdf in same figure\n",
    "    # ax[0].plot(x, ### YOUR CODE HERE ###, color = 'black',\n",
    "    #            lw = 2.5, label='Normal PDF')\n",
    "    \n",
    "    # Add probability plot in right-side panel\n",
    "    # probplot(### YOUR CODE HERE ###, dist = norm, fit = True, plot = ax[1])\n",
    "    \n",
    "    \n",
    "    return mu_H, sigma_H, h_samples"
   ]
  },
  {
   "cell_type": "markdown",
   "metadata": {},
   "source": [
    "## Part 2: Mean and Variance propagation laws"
   ]
  },
  {
   "cell_type": "markdown",
   "metadata": {},
   "source": [
    "<div style=\"background-color:#AABAB2; color: black; width:90%; vertical-align: middle; padding:15px; margin: 10px; border-radius: 10px\">\n",
    "<p>\n",
    "\n",
    "**Task 2.1:**\n",
    "    \n",
    "Use the functions defined in Task 1 to compute the mean and standard deviation of the linearized function of random variables, and compare the distribution defined by this analytical result to the distribution of $H_{ice}$ found using Monte Carlo simulations.\n",
    "    \n",
    "</p>\n",
    "</div>"
   ]
  },
  {
   "cell_type": "markdown",
   "metadata": {},
   "source": [
    "Now we can compute the mean $\\mu_H$ and standard deviation $\\sigma_H$ as function of:  \n",
    "- $\\mu_T = 10 \\; \\mathrm{K}$ and $\\sigma_T = 4 \\; \\mathrm{K}$\n",
    "- $\\mu_{H_0} = 0.20 \\; \\mathrm{m}$ and $\\sigma_{H_0} = 0.03 \\; \\mathrm{m}$"
   ]
  },
  {
   "cell_type": "code",
   "execution_count": null,
   "metadata": {
    "tags": [
     "assignment"
    ]
   },
   "outputs": [],
   "source": [
    "mu_iT = 10\n",
    "sigma_iT = 4\n",
    "mu_H0 = 0.20\n",
    "sigma_H0 = 0.03\n",
    "N = 10000\n",
    "\n",
    "# Propagated Mean-Variance via Taylor approximation\n",
    "mu_H, sigma_H = ### YOUR CODE HERE ###\n",
    "\n",
    "# Propagated Mean-Variance via MC simulations\n",
    "mu_H_simulated, sigma_H_simulated, _ = ### YOUR CODE HERE ###\n",
    "\n",
    "print('\\n\\nMean and standard deviation of linearized function:')\n",
    "print('  \\N{GREEK SMALL LETTER MU}',\n",
    "        '\\N{LATIN SUBSCRIPT SMALL LETTER H}=',\n",
    "      f'{mu_H:.3f}', 'm')\n",
    "print('  \\N{GREEK SMALL LETTER SIGMA}',\n",
    "        '\\N{LATIN SUBSCRIPT SMALL LETTER H}=',\n",
    "      f'{sigma_H:.3f}', 'm')\n",
    "\n",
    "print('\\n\\nMean and standard deviation of simulated distribution:')\n",
    "print('  \\N{GREEK SMALL LETTER MU}',\n",
    "        '\\N{LATIN SUBSCRIPT SMALL LETTER H} =',\n",
    "      f'{mu_H_simulated:.3f}', 'm')\n",
    "print('  \\N{GREEK SMALL LETTER SIGMA}',\n",
    "        '\\N{LATIN SUBSCRIPT SMALL LETTER H}=',\n",
    "      f'{sigma_H_simulated:.3f}', 'm')\n",
    "print('\\n')"
   ]
  },
  {
   "cell_type": "markdown",
   "metadata": {},
   "source": [
    "**NOTE** Recall that the right-hand plot above (and below) is by default labeled \"theoretical quantiles\" but in fact it is the quantile value while the y-axis contains the ordered values of the output variable, therefore the ice thickness."
   ]
  },
  {
   "cell_type": "markdown",
   "metadata": {},
   "source": [
    "## Part 3: Monte Carlo simulations - varying the sample size"
   ]
  },
  {
   "cell_type": "markdown",
   "metadata": {},
   "source": [
    "The \"accuracy\" of a Monte Carlo simulation depends on the number of the samples, therefore the code cell below sets up a loop and prints the output of the uncertainty propagation for a few different sample sizes. Take a look at the results and see how they change."
   ]
  },
  {
   "cell_type": "markdown",
   "metadata": {
    "tags": [
     "assignment"
    ]
   },
   "source": [
    "<div style=\"background-color:#AABAB2; color: black; width:90%; vertical-align: middle; padding:15px; margin: 10px; border-radius: 10px\">\n",
    "<p>\n",
    "\n",
    "**Task 3.1:**\n",
    "    \n",
    "The code cell below can be used for your answer to one of the questions in the Report, where you are asked to consider the \"inaccurate\" values that might be produced by this model.\n",
    "    \n",
    "</p>\n",
    "</div>"
   ]
  },
  {
   "cell_type": "code",
   "execution_count": null,
   "metadata": {
    "tags": [
     "assignment"
    ]
   },
   "outputs": [],
   "source": [
    "for N in [10, 50, 100, 500, 10000, 50000, 100000]:\n",
    "    mu_H_simulated, sigma_H_simulated, h_samp = samples_plot(### YOUR CODE HERE ###)\n",
    "    print(f'For N = {N} samples:')\n",
    "    print(f'    mean = {mu_H_simulated:.3f} m')\n",
    "    print(f'    std = {sigma_H_simulated:.3f} m\\n')"
   ]
  },
  {
   "cell_type": "markdown",
   "metadata": {
    "tags": [
     "assignment"
    ]
   },
   "source": [
    "<div style=\"background-color:#AABAB2; color: black; width:90%; vertical-align: middle; padding:15px; margin: 10px; border-radius: 10px\">\n",
    "<p>\n",
    "\n",
    "**Task 3.2:**\n",
    "    \n",
    "Consider now the previous results, and compare the Cumulative Density Function (CDF) based on the \"h_samp\" produced before. With the following function check how the sample distribution deviates from a fitten normal curve. Answer questions in the Report.\n",
    "\n",
    "</p>\n",
    "</div>"
   ]
  },
  {
   "cell_type": "code",
   "execution_count": null,
   "metadata": {},
   "outputs": [],
   "source": [
    "# Cumulative Density Function (CDF) comparison\n",
    "for i in np.linspace(0.1, 0.4, 10):\n",
    "    print(f'for an ice thickness of {i:5.2f} m --> ' +\n",
    "          f'{100*sum(h_samp <= i)/len(h_samp):8.4f}% of samples, ' +\n",
    "          f'{100*norm.cdf(i, mu_H, sigma_H):8.4f}% of distribution')"
   ]
  },
  {
   "cell_type": "markdown",
   "metadata": {},
   "source": [
    "<div style=\"background-color:#F6C78B; color: black; width:90%; vertical-align: middle; padding:15px; margin: 10px; border-radius: 10px\">\n",
    "<p>\n",
    "\n",
    "Once you have completed the analysis in this notebook, proceed to the questions in `Report.md`\n",
    "    \n",
    "</p>\n",
    "</div>"
   ]
  },
  {
   "cell_type": "markdown",
   "metadata": {},
   "source": [
    "> By Lotfi Massarweh and Sandra Verhagen,, Delft University of Technology. CC BY 4.0, more info on the Credits page of Workbook. "
   ]
  }
 ],
 "metadata": {
  "kernelspec": {
   "display_name": "mude-base",
   "language": "python",
   "name": "python3"
  },
  "language_info": {
   "codemirror_mode": {
    "name": "ipython",
    "version": 3
   },
   "file_extension": ".py",
   "mimetype": "text/x-python",
   "name": "python",
   "nbconvert_exporter": "python",
   "pygments_lexer": "ipython3",
   "version": "3.12.11"
  }
 },
 "nbformat": 4,
 "nbformat_minor": 2
}
